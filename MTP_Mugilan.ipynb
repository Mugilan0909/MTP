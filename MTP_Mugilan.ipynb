{
  "metadata": {
    "kernelspec": {
      "language": "python",
      "display_name": "Python 3",
      "name": "python3"
    },
    "language_info": {
      "name": "python",
      "version": "3.7.12",
      "mimetype": "text/x-python",
      "codemirror_mode": {
        "name": "ipython",
        "version": 3
      },
      "pygments_lexer": "ipython3",
      "nbconvert_exporter": "python",
      "file_extension": ".py"
    },
    "colab": {
      "provenance": [],
      "include_colab_link": true
    }
  },
  "nbformat_minor": 0,
  "nbformat": 4,
  "cells": [
    {
      "cell_type": "markdown",
      "metadata": {
        "id": "view-in-github",
        "colab_type": "text"
      },
      "source": [
        "<a href=\"https://colab.research.google.com/github/Mugilan0909/MTP/blob/main/MTP_Mugilan.ipynb\" target=\"_parent\"><img src=\"https://colab.research.google.com/assets/colab-badge.svg\" alt=\"Open In Colab\"/></a>"
      ]
    },
    {
      "cell_type": "code",
      "source": [
        "import os\n",
        "\n",
        "import numpy as np\n",
        "np.__version__\n",
        "import datetime\n",
        "\n",
        "import pandas as pd\n",
        "pd.__version__\n",
        "import pathlib\n",
        "\n",
        "import platform\n",
        "platform.__version__\n",
        "import tensorflow\n",
        "tensorflow.__version__\n",
        "from tensorflow import summary\n",
        "from tensorflow.keras import metrics\n",
        "from tensorflow.keras import Model\n",
        "from tensorflow.keras.applications import (VGG16, ResNet50V2,\n",
        "                                           InceptionResNetV2,\n",
        "                                           MobileNetV2, DenseNet121)\n",
        "from tensorflow.keras.layers import (Dense, Dropout, Flatten)\n",
        "from tensorflow.keras.losses import BinaryCrossentropy\n",
        "from tensorflow.keras import optimizers\n",
        "from tensorflow.keras import callbacks\n",
        "import tensorflow.keras\n",
        "tensorflow.keras.__version__\n",
        "from sklearn.utils import class_weight\n",
        "import sklearn\n",
        "sklearn.__version__\n",
        "from tensorflow.keras.preprocessing.image import ImageDataGenerator\n",
        "\n",
        "import matplotlib.pyplot as plt\n",
        "\n"
      ],
      "metadata": {
        "execution": {
          "iopub.status.busy": "2023-04-25T14:21:19.454852Z",
          "iopub.execute_input": "2023-04-25T14:21:19.455552Z",
          "iopub.status.idle": "2023-04-25T14:21:19.463755Z",
          "shell.execute_reply.started": "2023-04-25T14:21:19.455516Z",
          "shell.execute_reply": "2023-04-25T14:21:19.462453Z"
        },
        "trusted": true,
        "id": "T116mtsrk-gV"
      },
      "execution_count": null,
      "outputs": []
    },
    {
      "cell_type": "code",
      "source": [
        "import numpy as np\n",
        "import tensorflow as tf\n",
        "from tensorflow import keras\n",
        "from tensorflow.keras import layers\n",
        "import tensorflow_addons as tfa"
      ],
      "metadata": {
        "execution": {
          "iopub.status.busy": "2023-04-25T14:21:19.469987Z",
          "iopub.execute_input": "2023-04-25T14:21:19.470268Z",
          "iopub.status.idle": "2023-04-25T14:21:19.482192Z",
          "shell.execute_reply.started": "2023-04-25T14:21:19.470243Z",
          "shell.execute_reply": "2023-04-25T14:21:19.481218Z"
        },
        "trusted": true,
        "id": "voxEsQ1pk-gX"
      },
      "execution_count": null,
      "outputs": []
    },
    {
      "cell_type": "code",
      "source": [
        "\n",
        "BATCH_SIZE=256 #@param {type:\"number\"}\n",
        "HEIGHT=128 #@param {type:\"number\"}\n",
        "WIDTH=128 #@param {type:\"number\"}\n",
        "TRAIN=\"/kaggle/input/mtp-try/train/train\" #@param {type:\"string\"}\n",
        "TEST=\"/kaggle/input/mtp-try/test/test\"\n"
      ],
      "metadata": {
        "execution": {
          "iopub.status.busy": "2023-04-25T14:21:19.484764Z",
          "iopub.execute_input": "2023-04-25T14:21:19.485570Z",
          "iopub.status.idle": "2023-04-25T14:21:19.494972Z",
          "shell.execute_reply.started": "2023-04-25T14:21:19.485530Z",
          "shell.execute_reply": "2023-04-25T14:21:19.493900Z"
        },
        "trusted": true,
        "id": "TWeLH3n1k-gX"
      },
      "execution_count": null,
      "outputs": []
    },
    {
      "cell_type": "code",
      "source": [
        "# --- train data input ---\n",
        "train_dir = TRAIN\n",
        "train_dir = pathlib.Path(train_dir)\n",
        "# --- train data input ---\n",
        "test_dir = TEST\n",
        "test_dir = pathlib.Path(test_dir)\n",
        "image_count = len(list(train_dir.glob('*/*')))\n",
        "print(image_count)\n",
        "\n",
        "class_names = np.array([item.name for item in train_dir.glob('*')])\n",
        "\n",
        "try:\n",
        "    nclasses = len(class_names)\n",
        "    print(\"  Found image data, proceeding.\\n\")\n",
        "    print(\"   - Classes are {}\".format(class_names))\n",
        "except Exception:\n",
        "    raise IOError(\"Check your data!\")\n",
        "\n",
        "img_height = HEIGHT  # image height for all images\n",
        "img_width = WIDTH  # image width for all images"
      ],
      "metadata": {
        "execution": {
          "iopub.status.busy": "2023-04-25T14:21:19.499428Z",
          "iopub.execute_input": "2023-04-25T14:21:19.500350Z",
          "iopub.status.idle": "2023-04-25T14:21:20.989323Z",
          "shell.execute_reply.started": "2023-04-25T14:21:19.500304Z",
          "shell.execute_reply": "2023-04-25T14:21:20.988151Z"
        },
        "trusted": true,
        "id": "anQyqnq4k-gX",
        "outputId": "f6ba3b0a-22ab-406b-f57f-5d2dd63b8023"
      },
      "execution_count": null,
      "outputs": [
        {
          "name": "stdout",
          "text": "19997\n  Found image data, proceeding.\n\n   - Classes are ['0' '1']\n",
          "output_type": "stream"
        }
      ]
    },
    {
      "cell_type": "code",
      "source": [
        "class_names = np.array([item.name for item in test_dir.glob('*')])\n",
        "\n",
        "try:\n",
        "    nclasses = len(class_names)\n",
        "    print(\"  Found image data, proceeding.\\n\")\n",
        "    print(\"   - Classes are {}\".format(class_names))\n",
        "except Exception:\n",
        "    raise IOError(\"Check your data!\")"
      ],
      "metadata": {
        "execution": {
          "iopub.status.busy": "2023-04-25T14:21:20.990872Z",
          "iopub.execute_input": "2023-04-25T14:21:20.991524Z",
          "iopub.status.idle": "2023-04-25T14:21:21.000646Z",
          "shell.execute_reply.started": "2023-04-25T14:21:20.991483Z",
          "shell.execute_reply": "2023-04-25T14:21:20.999484Z"
        },
        "trusted": true,
        "id": "nv1Q6qu0k-gY",
        "outputId": "c286d9c9-a206-48ab-c98b-fb17fa02ab91"
      },
      "execution_count": null,
      "outputs": [
        {
          "name": "stdout",
          "text": "  Found image data, proceeding.\n\n   - Classes are ['0' '1']\n",
          "output_type": "stream"
        }
      ]
    },
    {
      "cell_type": "code",
      "source": [
        "# tells the Generator when to stop\n",
        "steps_per_epoch = np.ceil(image_count / BATCH_SIZE)\n",
        "\n",
        "datagen = ImageDataGenerator(zoom_range=0.2,\n",
        "                             rotation_range=20,\n",
        "                             horizontal_flip=True,\n",
        "                             vertical_flip=True,\n",
        "                             rescale=1./255.)#,\n",
        "                             #validation_split=VAL_SIZE)\n",
        "\n",
        "print(\"\\n    Fitting the training data generator:\\n\")\n",
        "data_gen_train = datagen.flow_from_directory(\n",
        "    directory=str(train_dir), batch_size=BATCH_SIZE, shuffle=True,\n",
        "    target_size=(img_height, img_width), classes=[\"0\", \"1\"],\n",
        "    subset='training', class_mode=\"binary\")\n",
        "\n",
        "datagen1 = ImageDataGenerator(zoom_range=0.2,\n",
        "                             rotation_range=20,\n",
        "                             horizontal_flip=True,\n",
        "                             vertical_flip=True,\n",
        "                             rescale=1./255.)\n",
        "\n",
        "print(\"\\n    Fitting the validation data generator:\\n\")\n",
        "data_gen_valid = datagen1.flow_from_directory(\n",
        "    directory=str(test_dir), batch_size=BATCH_SIZE, shuffle=True,\n",
        "    target_size=(img_height, img_width), classes=[\"0\", \"1\"],\n",
        "    subset='training', class_mode=\"binary\")"
      ],
      "metadata": {
        "execution": {
          "iopub.status.busy": "2023-04-25T14:21:21.003424Z",
          "iopub.execute_input": "2023-04-25T14:21:21.004019Z",
          "iopub.status.idle": "2023-04-25T14:21:33.621072Z",
          "shell.execute_reply.started": "2023-04-25T14:21:21.003967Z",
          "shell.execute_reply": "2023-04-25T14:21:33.620027Z"
        },
        "trusted": true,
        "id": "TK791jCik-gZ",
        "outputId": "8cf2a5ed-3408-4e5d-c74f-30ededb1ec15"
      },
      "execution_count": null,
      "outputs": [
        {
          "name": "stdout",
          "text": "\n    Fitting the training data generator:\n\nFound 19997 images belonging to 2 classes.\n\n    Fitting the validation data generator:\n\nFound 1200 images belonging to 2 classes.\n",
          "output_type": "stream"
        }
      ]
    },
    {
      "cell_type": "code",
      "source": [
        "import tqdm\n",
        "data_gen_train.reset()\n",
        "x_train, y_train = next(data_gen_train)\n",
        "for i in tqdm.tqdm(range(70,int(data_gen_train.n/BATCH_SIZE)-1)): \n",
        "  img, label = next(data_gen_train)\n",
        "  x_train = np.append(x_train, img, axis=0 )\n",
        "  y_train = np.append(y_train, label, axis=0)\n",
        "print(x_train.shape, y_train.shape)"
      ],
      "metadata": {
        "execution": {
          "iopub.status.busy": "2023-04-25T14:21:33.624942Z",
          "iopub.execute_input": "2023-04-25T14:21:33.625304Z",
          "iopub.status.idle": "2023-04-25T14:21:56.050487Z",
          "shell.execute_reply.started": "2023-04-25T14:21:33.625272Z",
          "shell.execute_reply": "2023-04-25T14:21:56.049406Z"
        },
        "trusted": true,
        "id": "QcaDVcg8k-gZ",
        "outputId": "7be54807-7017-4762-cdca-b7bb470da00c"
      },
      "execution_count": null,
      "outputs": [
        {
          "name": "stderr",
          "text": "100%|██████████| 7/7 [00:19<00:00,  2.81s/it]",
          "output_type": "stream"
        },
        {
          "name": "stdout",
          "text": "(2048, 128, 128, 3) (2048,)\n",
          "output_type": "stream"
        },
        {
          "name": "stderr",
          "text": "\n",
          "output_type": "stream"
        }
      ]
    },
    {
      "cell_type": "code",
      "source": [
        "import tqdm\n",
        "data_gen_valid.reset()\n",
        "x_test, y_test = next(data_gen_valid)\n",
        "for i in tqdm.tqdm(range(int(data_gen_valid.n/BATCH_SIZE)-1)): \n",
        "  img, label = next(data_gen_valid)\n",
        "  x_test = np.append(x_test, img, axis=0 )\n",
        "  y_test = np.append(y_test, label, axis=0)\n",
        "print(x_test.shape, y_test.shape)"
      ],
      "metadata": {
        "execution": {
          "iopub.status.busy": "2023-04-25T14:21:56.052112Z",
          "iopub.execute_input": "2023-04-25T14:21:56.052780Z",
          "iopub.status.idle": "2023-04-25T14:22:04.841621Z",
          "shell.execute_reply.started": "2023-04-25T14:21:56.052741Z",
          "shell.execute_reply": "2023-04-25T14:22:04.840511Z"
        },
        "trusted": true,
        "id": "jzagM2luk-gZ",
        "outputId": "56ef67e7-4f42-40b3-ac0b-a34150688b18"
      },
      "execution_count": null,
      "outputs": [
        {
          "name": "stderr",
          "text": "100%|██████████| 3/3 [00:06<00:00,  2.25s/it]",
          "output_type": "stream"
        },
        {
          "name": "stdout",
          "text": "(1024, 128, 128, 3) (1024,)\n",
          "output_type": "stream"
        },
        {
          "name": "stderr",
          "text": "\n",
          "output_type": "stream"
        }
      ]
    },
    {
      "cell_type": "code",
      "source": [
        "num_classes = 2\n",
        "input_shape = (128, 128, 3)\n",
        "learning_rate = 0.001\n",
        "weight_decay = 0.0001\n",
        "batch_size = 256\n",
        "num_epochs = 1\n",
        "image_size = 72  # We'll resize input images to this size\n",
        "patch_size = 6  # Size of the patches to be extract from the input images\n",
        "num_patches = (image_size // patch_size) ** 2\n",
        "projection_dim = 64\n",
        "num_heads = 4\n",
        "transformer_units = [\n",
        "    projection_dim * 2,\n",
        "    projection_dim,\n",
        "]  # Size of the transformer layers\n",
        "transformer_layers = 8\n",
        "mlp_head_units = [2048, 1024]  # Size of the dense layers of the final classifier"
      ],
      "metadata": {
        "execution": {
          "iopub.status.busy": "2023-04-25T14:22:04.843003Z",
          "iopub.execute_input": "2023-04-25T14:22:04.843816Z",
          "iopub.status.idle": "2023-04-25T14:22:04.851595Z",
          "shell.execute_reply.started": "2023-04-25T14:22:04.843779Z",
          "shell.execute_reply": "2023-04-25T14:22:04.850663Z"
        },
        "trusted": true,
        "id": "cspazctck-ga"
      },
      "execution_count": null,
      "outputs": []
    },
    {
      "cell_type": "code",
      "source": [
        "data_augmentation = keras.Sequential(\n",
        "    [\n",
        "        layers.Normalization(),\n",
        "        layers.Resizing(image_size, image_size),\n",
        "        layers.RandomFlip(\"horizontal\"),\n",
        "        layers.RandomRotation(factor=0.02),\n",
        "        layers.RandomZoom(\n",
        "            height_factor=0.2, width_factor=0.2\n",
        "        ),\n",
        "    ],\n",
        "    name=\"data_augmentation\",\n",
        ")\n",
        "# Compute the mean and the variance of the training data for normalization.\n",
        "data_augmentation.layers[0].adapt(x_train)"
      ],
      "metadata": {
        "execution": {
          "iopub.status.busy": "2023-04-25T14:22:04.853088Z",
          "iopub.execute_input": "2023-04-25T14:22:04.853623Z",
          "iopub.status.idle": "2023-04-25T14:22:06.114319Z",
          "shell.execute_reply.started": "2023-04-25T14:22:04.853581Z",
          "shell.execute_reply": "2023-04-25T14:22:06.113244Z"
        },
        "trusted": true,
        "id": "gfE61AaYk-ga"
      },
      "execution_count": null,
      "outputs": []
    },
    {
      "cell_type": "code",
      "source": [
        "def mlp(x, hidden_units, dropout_rate):\n",
        "    for units in hidden_units:\n",
        "        x = layers.Dense(units, activation=tf.nn.gelu)(x)\n",
        "        x = layers.Dropout(dropout_rate)(x)\n",
        "    return x"
      ],
      "metadata": {
        "execution": {
          "iopub.status.busy": "2023-04-25T14:22:06.118447Z",
          "iopub.execute_input": "2023-04-25T14:22:06.118742Z",
          "iopub.status.idle": "2023-04-25T14:22:06.125421Z",
          "shell.execute_reply.started": "2023-04-25T14:22:06.118715Z",
          "shell.execute_reply": "2023-04-25T14:22:06.124112Z"
        },
        "trusted": true,
        "id": "0gtVdjU2k-ga"
      },
      "execution_count": null,
      "outputs": []
    },
    {
      "cell_type": "code",
      "source": [
        "class Patches(layers.Layer):\n",
        "    def __init__(self, patch_size):\n",
        "        super().__init__()\n",
        "        self.patch_size = patch_size\n",
        "\n",
        "    def call(self, images):\n",
        "        batch_size = tf.shape(images)[0]\n",
        "        patches = tf.image.extract_patches(\n",
        "            images=images,\n",
        "            sizes=[1, self.patch_size, self.patch_size, 1],\n",
        "            strides=[1, self.patch_size, self.patch_size, 1],\n",
        "            rates=[1, 1, 1, 1],\n",
        "            padding=\"VALID\",\n",
        "        )\n",
        "        patch_dims = patches.shape[-1]\n",
        "        patches = tf.reshape(patches, [batch_size, -1, patch_dims])\n",
        "        return patches"
      ],
      "metadata": {
        "execution": {
          "iopub.status.busy": "2023-04-25T14:22:06.126750Z",
          "iopub.execute_input": "2023-04-25T14:22:06.127274Z",
          "iopub.status.idle": "2023-04-25T14:22:06.136810Z",
          "shell.execute_reply.started": "2023-04-25T14:22:06.127229Z",
          "shell.execute_reply": "2023-04-25T14:22:06.135891Z"
        },
        "trusted": true,
        "id": "uCEUlQKzk-gb"
      },
      "execution_count": null,
      "outputs": []
    },
    {
      "cell_type": "code",
      "source": [
        "import matplotlib.pyplot as plt\n",
        "\n",
        "plt.figure(figsize=(4, 4))\n",
        "image = x_train[np.random.choice(range(x_train.shape[0]))]\n",
        "plt.imshow(image)\n",
        "plt.axis(\"off\")\n",
        "\n",
        "resized_image = tf.image.resize(\n",
        "    tf.convert_to_tensor([image]), size=(image_size, image_size)\n",
        ")\n",
        "patches = Patches(patch_size)(resized_image)\n",
        "print(f\"Image size: {image_size} X {image_size}\")\n",
        "print(f\"Patch size: {patch_size} X {patch_size}\")\n",
        "print(f\"Patches per image: {patches.shape[1]}\")\n",
        "print(f\"Elements per patch: {patches.shape[-1]}\")\n",
        "\n",
        "n = int(np.sqrt(patches.shape[1]))\n",
        "plt.figure(figsize=(4, 4))\n",
        "for i, patch in enumerate(patches[0]):\n",
        "    ax = plt.subplot(n, n, i + 1)\n",
        "    patch_img = tf.reshape(patch, (patch_size, patch_size, 3))\n",
        "    plt.imshow(patch_img)\n",
        "    plt.axis(\"off\")"
      ],
      "metadata": {
        "execution": {
          "iopub.status.busy": "2023-04-25T14:22:06.138693Z",
          "iopub.execute_input": "2023-04-25T14:22:06.139156Z",
          "iopub.status.idle": "2023-04-25T14:22:09.731271Z",
          "shell.execute_reply.started": "2023-04-25T14:22:06.139120Z",
          "shell.execute_reply": "2023-04-25T14:22:09.730310Z"
        },
        "trusted": true,
        "id": "fA0BtJ_Zk-gb",
        "outputId": "38a0a86d-84b4-48d0-afb2-7bd1f65058c6"
      },
      "execution_count": null,
      "outputs": [
        {
          "name": "stdout",
          "text": "Image size: 72 X 72\nPatch size: 6 X 6\nPatches per image: 144\nElements per patch: 108\n",
          "output_type": "stream"
        },
        {
          "output_type": "display_data",
          "data": {
            "text/plain": "<Figure size 400x400 with 1 Axes>",
            "image/png": "[encoded data removed]"
          },
          "metadata": {}
        },
        {
          "output_type": "display_data",
          "data": {
            "text/plain": "<Figure size 400x400 with 144 Axes>",
            "image/png": "[encoded data removed]"
          },
          "metadata": {}
        }
      ]
    },
    {
      "cell_type": "code",
      "source": [
        "class PatchEncoder(layers.Layer):\n",
        "    def __init__(self, num_patches, projection_dim):\n",
        "        super().__init__()\n",
        "        self.num_patches = num_patches\n",
        "        self.projection = layers.Dense(units=projection_dim)\n",
        "        self.position_embedding = layers.Embedding(\n",
        "            input_dim=num_patches, output_dim=projection_dim\n",
        "        )\n",
        "\n",
        "    def call(self, patch):\n",
        "        positions = tf.range(start=0, limit=self.num_patches, delta=1)\n",
        "        encoded = self.projection(patch) + self.position_embedding(positions)\n",
        "        return encoded"
      ],
      "metadata": {
        "execution": {
          "iopub.status.busy": "2023-04-25T14:22:09.732955Z",
          "iopub.execute_input": "2023-04-25T14:22:09.733325Z",
          "iopub.status.idle": "2023-04-25T14:22:09.741570Z",
          "shell.execute_reply.started": "2023-04-25T14:22:09.733287Z",
          "shell.execute_reply": "2023-04-25T14:22:09.740495Z"
        },
        "trusted": true,
        "id": "-gLhFuwpk-gb"
      },
      "execution_count": null,
      "outputs": []
    },
    {
      "cell_type": "code",
      "source": [
        "def create_vit_classifier():\n",
        "    inputs = layers.Input(shape=input_shape)\n",
        "    # Augment data.\n",
        "    augmented = data_augmentation(inputs)\n",
        "    # Create patches.\n",
        "    patches = Patches(patch_size)(augmented)\n",
        "    # Encode patches.\n",
        "    encoded_patches = PatchEncoder(num_patches, projection_dim)(patches)\n",
        "\n",
        "    # Create multiple layers of the Transformer block.\n",
        "    for _ in range(transformer_layers):\n",
        "        # Layer normalization 1.\n",
        "        x1 = layers.LayerNormalization(epsilon=1e-6)(encoded_patches)\n",
        "        # Create a multi-head attention layer.\n",
        "        attention_output = layers.MultiHeadAttention(\n",
        "            num_heads=num_heads, key_dim=projection_dim, dropout=0.1\n",
        "        )(x1, x1)\n",
        "        # Skip connection 1.\n",
        "        x2 = layers.Add()([attention_output, encoded_patches])\n",
        "        # Layer normalization 2.\n",
        "        x3 = layers.LayerNormalization(epsilon=1e-6)(x2)\n",
        "        # MLP.\n",
        "        x3 = mlp(x3, hidden_units=transformer_units, dropout_rate=0.1)\n",
        "        # Skip connection 2.\n",
        "        encoded_patches = layers.Add()([x3, x2])\n",
        "\n",
        "    # Create a [batch_size, projection_dim] tensor.\n",
        "    representation = layers.LayerNormalization(epsilon=1e-6)(encoded_patches)\n",
        "    representation = layers.Flatten()(representation)\n",
        "    representation = layers.Dropout(0.5)(representation)\n",
        "    # Add MLP.\n",
        "    features = mlp(representation, hidden_units=mlp_head_units, dropout_rate=0.5)\n",
        "    # Classify outputs.\n",
        "    logits = layers.Dense(num_classes)(features)\n",
        "    # Create the Keras model.\n",
        "    model = keras.Model(inputs=inputs, outputs=logits)\n",
        "    return model"
      ],
      "metadata": {
        "execution": {
          "iopub.status.busy": "2023-04-25T14:52:58.253713Z",
          "iopub.execute_input": "2023-04-25T14:52:58.254853Z",
          "iopub.status.idle": "2023-04-25T14:52:58.264306Z",
          "shell.execute_reply.started": "2023-04-25T14:52:58.254790Z",
          "shell.execute_reply": "2023-04-25T14:52:58.263228Z"
        },
        "trusted": true,
        "id": "XXfAml-jk-gc"
      },
      "execution_count": null,
      "outputs": []
    },
    {
      "cell_type": "code",
      "source": [
        "\n",
        "def run_experiment(model):\n",
        "    optimizer = tfa.optimizers.AdamW(\n",
        "        learning_rate=learning_rate, weight_decay=weight_decay\n",
        "    )\n",
        "\n",
        "    model.compile(\n",
        "        optimizer=optimizer,\n",
        "        loss=keras.losses.SparseCategoricalCrossentropy(from_logits=True),\n",
        "        metrics=[\n",
        "            keras.metrics.SparseCategoricalAccuracy(name=\"accuracy\"),\n",
        "            keras.metrics.SparseTopKCategoricalAccuracy(5, name=\"top-5-accuracy\"),try1\n",
        "        ]\n",
        "    )\n",
        "\n",
        "    checkpoint_filepath = \"/tmp/checkpoint\"\n",
        "    checkpoint_callback = keras.callbacks.ModelCheckpoint(\n",
        "        checkpoint_filepath,\n",
        "        monitor=\"val_accuracy\",\n",
        "        save_best_only=True,\n",
        "        save_weights_only=True,\n",
        "    )\n",
        "\n",
        "    history = model.fit(\n",
        "        x=x_train,\n",
        "        y=y_train,\n",
        "        batch_size=batch_size,\n",
        "        epochs=num_epochs,\n",
        "        validation_split=0.1,\n",
        "        callbacks=[checkpoint_callback],\n",
        "    )\n",
        "    \n",
        "    \n",
        "\n",
        "    \n",
        "\n",
        "    model.load_weights(checkpoint_filepath)\n",
        "\n",
        "    _, accuracy, top_5_accuracy,_ = model.evaluate(x_test, y_test)\n",
        "    print(f\"Test accuracy: {round(accuracy * 100, 2)}%\")\n",
        "    print(f\"Test top 5 accuracy: {round(top_5_accuracy * 100, 2)}%\")\n",
        "\n",
        "    return history\n",
        "\n",
        "\n",
        "vit_classifier = create_vit_classifier()\n",
        "history = run_experiment(vit_classifier)"
      ],
      "metadata": {
        "execution": {
          "iopub.status.busy": "2023-04-25T15:49:30.554650Z",
          "iopub.execute_input": "2023-04-25T15:49:30.555047Z",
          "iopub.status.idle": "2023-04-25T15:49:58.017626Z",
          "shell.execute_reply.started": "2023-04-25T15:49:30.555014Z",
          "shell.execute_reply": "2023-04-25T15:49:58.015819Z"
        },
        "trusted": true,
        "id": "Vy0HZMVyk-gc",
        "outputId": "cef1bde9-fe2c-41c1-d40a-70a28a7e9f8d"
      },
      "execution_count": null,
      "outputs": [
        {
          "name": "stdout",
          "text": "(None, 1)\n(None, 2)\n(None, 1)\n(None, 2)\n1/8 [==>...........................] - ETA: 2:11 - loss: 1.5309 - accuracy: 0.5039 - top-5-accuracy: 1.0000 - try1: 0.0000e+00",
          "output_type": "stream"
        },
        {
          "traceback": [
            "\u001b[0;31m---------------------------------------------------------------------------\u001b[0m",
            "\u001b[0;31mKeyboardInterrupt\u001b[0m                         Traceback (most recent call last)",
            "\u001b[0;32m/tmp/ipykernel_23/3252906108.py\u001b[0m in \u001b[0;36m<module>\u001b[0;34m\u001b[0m\n\u001b[1;32m     61\u001b[0m \u001b[0;34m\u001b[0m\u001b[0m\n\u001b[1;32m     62\u001b[0m \u001b[0mvit_classifier\u001b[0m \u001b[0;34m=\u001b[0m \u001b[0mcreate_vit_classifier\u001b[0m\u001b[0;34m(\u001b[0m\u001b[0;34m)\u001b[0m\u001b[0;34m\u001b[0m\u001b[0;34m\u001b[0m\u001b[0m\n\u001b[0;32m---> 63\u001b[0;31m \u001b[0mhistory\u001b[0m \u001b[0;34m=\u001b[0m \u001b[0mrun_experiment\u001b[0m\u001b[0;34m(\u001b[0m\u001b[0mvit_classifier\u001b[0m\u001b[0;34m)\u001b[0m\u001b[0;34m\u001b[0m\u001b[0;34m\u001b[0m\u001b[0m\n\u001b[0m",
            "\u001b[0;32m/tmp/ipykernel_23/3252906108.py\u001b[0m in \u001b[0;36mrun_experiment\u001b[0;34m(model)\u001b[0m\n\u001b[1;32m     32\u001b[0m         \u001b[0mepochs\u001b[0m\u001b[0;34m=\u001b[0m\u001b[0mnum_epochs\u001b[0m\u001b[0;34m,\u001b[0m\u001b[0;34m\u001b[0m\u001b[0;34m\u001b[0m\u001b[0m\n\u001b[1;32m     33\u001b[0m         \u001b[0mvalidation_split\u001b[0m\u001b[0;34m=\u001b[0m\u001b[0;36m0.1\u001b[0m\u001b[0;34m,\u001b[0m\u001b[0;34m\u001b[0m\u001b[0;34m\u001b[0m\u001b[0m\n\u001b[0;32m---> 34\u001b[0;31m         \u001b[0mcallbacks\u001b[0m\u001b[0;34m=\u001b[0m\u001b[0;34m[\u001b[0m\u001b[0mcheckpoint_callback\u001b[0m\u001b[0;34m]\u001b[0m\u001b[0;34m,\u001b[0m\u001b[0;34m\u001b[0m\u001b[0;34m\u001b[0m\u001b[0m\n\u001b[0m\u001b[1;32m     35\u001b[0m     )\n\u001b[1;32m     36\u001b[0m \u001b[0;34m\u001b[0m\u001b[0m\n",
            "\u001b[0;32m/opt/conda/lib/python3.7/site-packages/keras/utils/traceback_utils.py\u001b[0m in \u001b[0;36merror_handler\u001b[0;34m(*args, **kwargs)\u001b[0m\n\u001b[1;32m     63\u001b[0m         \u001b[0mfiltered_tb\u001b[0m \u001b[0;34m=\u001b[0m \u001b[0;32mNone\u001b[0m\u001b[0;34m\u001b[0m\u001b[0;34m\u001b[0m\u001b[0m\n\u001b[1;32m     64\u001b[0m         \u001b[0;32mtry\u001b[0m\u001b[0;34m:\u001b[0m\u001b[0;34m\u001b[0m\u001b[0;34m\u001b[0m\u001b[0m\n\u001b[0;32m---> 65\u001b[0;31m             \u001b[0;32mreturn\u001b[0m \u001b[0mfn\u001b[0m\u001b[0;34m(\u001b[0m\u001b[0;34m*\u001b[0m\u001b[0margs\u001b[0m\u001b[0;34m,\u001b[0m \u001b[0;34m**\u001b[0m\u001b[0mkwargs\u001b[0m\u001b[0;34m)\u001b[0m\u001b[0;34m\u001b[0m\u001b[0;34m\u001b[0m\u001b[0m\n\u001b[0m\u001b[1;32m     66\u001b[0m         \u001b[0;32mexcept\u001b[0m \u001b[0mException\u001b[0m \u001b[0;32mas\u001b[0m \u001b[0me\u001b[0m\u001b[0;34m:\u001b[0m\u001b[0;34m\u001b[0m\u001b[0;34m\u001b[0m\u001b[0m\n\u001b[1;32m     67\u001b[0m             \u001b[0mfiltered_tb\u001b[0m \u001b[0;34m=\u001b[0m \u001b[0m_process_traceback_frames\u001b[0m\u001b[0;34m(\u001b[0m\u001b[0me\u001b[0m\u001b[0;34m.\u001b[0m\u001b[0m__traceback__\u001b[0m\u001b[0;34m)\u001b[0m\u001b[0;34m\u001b[0m\u001b[0;34m\u001b[0m\u001b[0m\n",
            "\u001b[0;32m/opt/conda/lib/python3.7/site-packages/keras/engine/training.py\u001b[0m in \u001b[0;36mfit\u001b[0;34m(self, x, y, batch_size, epochs, verbose, callbacks, validation_split, validation_data, shuffle, class_weight, sample_weight, initial_epoch, steps_per_epoch, validation_steps, validation_batch_size, validation_freq, max_queue_size, workers, use_multiprocessing)\u001b[0m\n\u001b[1;32m   1648\u001b[0m                         ):\n\u001b[1;32m   1649\u001b[0m                             \u001b[0mcallbacks\u001b[0m\u001b[0;34m.\u001b[0m\u001b[0mon_train_batch_begin\u001b[0m\u001b[0;34m(\u001b[0m\u001b[0mstep\u001b[0m\u001b[0;34m)\u001b[0m\u001b[0;34m\u001b[0m\u001b[0;34m\u001b[0m\u001b[0m\n\u001b[0;32m-> 1650\u001b[0;31m                             \u001b[0mtmp_logs\u001b[0m \u001b[0;34m=\u001b[0m \u001b[0mself\u001b[0m\u001b[0;34m.\u001b[0m\u001b[0mtrain_function\u001b[0m\u001b[0;34m(\u001b[0m\u001b[0miterator\u001b[0m\u001b[0;34m)\u001b[0m\u001b[0;34m\u001b[0m\u001b[0;34m\u001b[0m\u001b[0m\n\u001b[0m\u001b[1;32m   1651\u001b[0m                             \u001b[0;32mif\u001b[0m \u001b[0mdata_handler\u001b[0m\u001b[0;34m.\u001b[0m\u001b[0mshould_sync\u001b[0m\u001b[0;34m:\u001b[0m\u001b[0;34m\u001b[0m\u001b[0;34m\u001b[0m\u001b[0m\n\u001b[1;32m   1652\u001b[0m                                 \u001b[0mcontext\u001b[0m\u001b[0;34m.\u001b[0m\u001b[0masync_wait\u001b[0m\u001b[0;34m(\u001b[0m\u001b[0;34m)\u001b[0m\u001b[0;34m\u001b[0m\u001b[0;34m\u001b[0m\u001b[0m\n",
            "\u001b[0;32m/opt/conda/lib/python3.7/site-packages/tensorflow/python/util/traceback_utils.py\u001b[0m in \u001b[0;36merror_handler\u001b[0;34m(*args, **kwargs)\u001b[0m\n\u001b[1;32m    148\u001b[0m     \u001b[0mfiltered_tb\u001b[0m \u001b[0;34m=\u001b[0m \u001b[0;32mNone\u001b[0m\u001b[0;34m\u001b[0m\u001b[0;34m\u001b[0m\u001b[0m\n\u001b[1;32m    149\u001b[0m     \u001b[0;32mtry\u001b[0m\u001b[0;34m:\u001b[0m\u001b[0;34m\u001b[0m\u001b[0;34m\u001b[0m\u001b[0m\n\u001b[0;32m--> 150\u001b[0;31m       \u001b[0;32mreturn\u001b[0m \u001b[0mfn\u001b[0m\u001b[0;34m(\u001b[0m\u001b[0;34m*\u001b[0m\u001b[0margs\u001b[0m\u001b[0;34m,\u001b[0m \u001b[0;34m**\u001b[0m\u001b[0mkwargs\u001b[0m\u001b[0;34m)\u001b[0m\u001b[0;34m\u001b[0m\u001b[0;34m\u001b[0m\u001b[0m\n\u001b[0m\u001b[1;32m    151\u001b[0m     \u001b[0;32mexcept\u001b[0m \u001b[0mException\u001b[0m \u001b[0;32mas\u001b[0m \u001b[0me\u001b[0m\u001b[0;34m:\u001b[0m\u001b[0;34m\u001b[0m\u001b[0;34m\u001b[0m\u001b[0m\n\u001b[1;32m    152\u001b[0m       \u001b[0mfiltered_tb\u001b[0m \u001b[0;34m=\u001b[0m \u001b[0m_process_traceback_frames\u001b[0m\u001b[0;34m(\u001b[0m\u001b[0me\u001b[0m\u001b[0;34m.\u001b[0m\u001b[0m__traceback__\u001b[0m\u001b[0;34m)\u001b[0m\u001b[0;34m\u001b[0m\u001b[0;34m\u001b[0m\u001b[0m\n",
            "\u001b[0;32m/opt/conda/lib/python3.7/site-packages/tensorflow/python/eager/polymorphic_function/polymorphic_function.py\u001b[0m in \u001b[0;36m__call__\u001b[0;34m(self, *args, **kwds)\u001b[0m\n\u001b[1;32m    878\u001b[0m \u001b[0;34m\u001b[0m\u001b[0m\n\u001b[1;32m    879\u001b[0m       \u001b[0;32mwith\u001b[0m \u001b[0mOptionalXlaContext\u001b[0m\u001b[0;34m(\u001b[0m\u001b[0mself\u001b[0m\u001b[0;34m.\u001b[0m\u001b[0m_jit_compile\u001b[0m\u001b[0;34m)\u001b[0m\u001b[0;34m:\u001b[0m\u001b[0;34m\u001b[0m\u001b[0;34m\u001b[0m\u001b[0m\n\u001b[0;32m--> 880\u001b[0;31m         \u001b[0mresult\u001b[0m \u001b[0;34m=\u001b[0m \u001b[0mself\u001b[0m\u001b[0;34m.\u001b[0m\u001b[0m_call\u001b[0m\u001b[0;34m(\u001b[0m\u001b[0;34m*\u001b[0m\u001b[0margs\u001b[0m\u001b[0;34m,\u001b[0m \u001b[0;34m**\u001b[0m\u001b[0mkwds\u001b[0m\u001b[0;34m)\u001b[0m\u001b[0;34m\u001b[0m\u001b[0;34m\u001b[0m\u001b[0m\n\u001b[0m\u001b[1;32m    881\u001b[0m \u001b[0;34m\u001b[0m\u001b[0m\n\u001b[1;32m    882\u001b[0m       \u001b[0mnew_tracing_count\u001b[0m \u001b[0;34m=\u001b[0m \u001b[0mself\u001b[0m\u001b[0;34m.\u001b[0m\u001b[0mexperimental_get_tracing_count\u001b[0m\u001b[0;34m(\u001b[0m\u001b[0;34m)\u001b[0m\u001b[0;34m\u001b[0m\u001b[0;34m\u001b[0m\u001b[0m\n",
            "\u001b[0;32m/opt/conda/lib/python3.7/site-packages/tensorflow/python/eager/polymorphic_function/polymorphic_function.py\u001b[0m in \u001b[0;36m_call\u001b[0;34m(self, *args, **kwds)\u001b[0m\n\u001b[1;32m    910\u001b[0m       \u001b[0;31m# In this case we have created variables on the first call, so we run the\u001b[0m\u001b[0;34m\u001b[0m\u001b[0;34m\u001b[0m\u001b[0;34m\u001b[0m\u001b[0m\n\u001b[1;32m    911\u001b[0m       \u001b[0;31m# defunned version which is guaranteed to never create variables.\u001b[0m\u001b[0;34m\u001b[0m\u001b[0;34m\u001b[0m\u001b[0;34m\u001b[0m\u001b[0m\n\u001b[0;32m--> 912\u001b[0;31m       \u001b[0;32mreturn\u001b[0m \u001b[0mself\u001b[0m\u001b[0;34m.\u001b[0m\u001b[0m_no_variable_creation_fn\u001b[0m\u001b[0;34m(\u001b[0m\u001b[0;34m*\u001b[0m\u001b[0margs\u001b[0m\u001b[0;34m,\u001b[0m \u001b[0;34m**\u001b[0m\u001b[0mkwds\u001b[0m\u001b[0;34m)\u001b[0m  \u001b[0;31m# pylint: disable=not-callable\u001b[0m\u001b[0;34m\u001b[0m\u001b[0;34m\u001b[0m\u001b[0m\n\u001b[0m\u001b[1;32m    913\u001b[0m     \u001b[0;32melif\u001b[0m \u001b[0mself\u001b[0m\u001b[0;34m.\u001b[0m\u001b[0m_variable_creation_fn\u001b[0m \u001b[0;32mis\u001b[0m \u001b[0;32mnot\u001b[0m \u001b[0;32mNone\u001b[0m\u001b[0;34m:\u001b[0m\u001b[0;34m\u001b[0m\u001b[0;34m\u001b[0m\u001b[0m\n\u001b[1;32m    914\u001b[0m       \u001b[0;31m# Release the lock early so that multiple threads can perform the call\u001b[0m\u001b[0;34m\u001b[0m\u001b[0;34m\u001b[0m\u001b[0;34m\u001b[0m\u001b[0m\n",
            "\u001b[0;32m/opt/conda/lib/python3.7/site-packages/tensorflow/python/eager/polymorphic_function/tracing_compiler.py\u001b[0m in \u001b[0;36m__call__\u001b[0;34m(self, *args, **kwargs)\u001b[0m\n\u001b[1;32m    133\u001b[0m        filtered_flat_args) = self._maybe_define_function(args, kwargs)\n\u001b[1;32m    134\u001b[0m     return concrete_function._call_flat(\n\u001b[0;32m--> 135\u001b[0;31m         filtered_flat_args, captured_inputs=concrete_function.captured_inputs)  # pylint: disable=protected-access\n\u001b[0m\u001b[1;32m    136\u001b[0m \u001b[0;34m\u001b[0m\u001b[0m\n\u001b[1;32m    137\u001b[0m   \u001b[0;34m@\u001b[0m\u001b[0mproperty\u001b[0m\u001b[0;34m\u001b[0m\u001b[0;34m\u001b[0m\u001b[0m\n",
            "\u001b[0;32m/opt/conda/lib/python3.7/site-packages/tensorflow/python/eager/polymorphic_function/monomorphic_function.py\u001b[0m in \u001b[0;36m_call_flat\u001b[0;34m(self, args, captured_inputs, cancellation_manager)\u001b[0m\n\u001b[1;32m   1744\u001b[0m       \u001b[0;31m# No tape is watching; skip to running the function.\u001b[0m\u001b[0;34m\u001b[0m\u001b[0;34m\u001b[0m\u001b[0;34m\u001b[0m\u001b[0m\n\u001b[1;32m   1745\u001b[0m       return self._build_call_outputs(self._inference_function.call(\n\u001b[0;32m-> 1746\u001b[0;31m           ctx, args, cancellation_manager=cancellation_manager))\n\u001b[0m\u001b[1;32m   1747\u001b[0m     forward_backward = self._select_forward_and_backward_functions(\n\u001b[1;32m   1748\u001b[0m         \u001b[0margs\u001b[0m\u001b[0;34m,\u001b[0m\u001b[0;34m\u001b[0m\u001b[0;34m\u001b[0m\u001b[0m\n",
            "\u001b[0;32m/opt/conda/lib/python3.7/site-packages/tensorflow/python/eager/polymorphic_function/monomorphic_function.py\u001b[0m in \u001b[0;36mcall\u001b[0;34m(self, ctx, args, cancellation_manager)\u001b[0m\n\u001b[1;32m    381\u001b[0m               \u001b[0minputs\u001b[0m\u001b[0;34m=\u001b[0m\u001b[0margs\u001b[0m\u001b[0;34m,\u001b[0m\u001b[0;34m\u001b[0m\u001b[0;34m\u001b[0m\u001b[0m\n\u001b[1;32m    382\u001b[0m               \u001b[0mattrs\u001b[0m\u001b[0;34m=\u001b[0m\u001b[0mattrs\u001b[0m\u001b[0;34m,\u001b[0m\u001b[0;34m\u001b[0m\u001b[0;34m\u001b[0m\u001b[0m\n\u001b[0;32m--> 383\u001b[0;31m               ctx=ctx)\n\u001b[0m\u001b[1;32m    384\u001b[0m         \u001b[0;32melse\u001b[0m\u001b[0;34m:\u001b[0m\u001b[0;34m\u001b[0m\u001b[0;34m\u001b[0m\u001b[0m\n\u001b[1;32m    385\u001b[0m           outputs = execute.execute_with_cancellation(\n",
            "\u001b[0;32m/opt/conda/lib/python3.7/site-packages/tensorflow/python/eager/execute.py\u001b[0m in \u001b[0;36mquick_execute\u001b[0;34m(op_name, num_outputs, inputs, attrs, ctx, name)\u001b[0m\n\u001b[1;32m     51\u001b[0m     \u001b[0mctx\u001b[0m\u001b[0;34m.\u001b[0m\u001b[0mensure_initialized\u001b[0m\u001b[0;34m(\u001b[0m\u001b[0;34m)\u001b[0m\u001b[0;34m\u001b[0m\u001b[0;34m\u001b[0m\u001b[0m\n\u001b[1;32m     52\u001b[0m     tensors = pywrap_tfe.TFE_Py_Execute(ctx._handle, device_name, op_name,\n\u001b[0;32m---> 53\u001b[0;31m                                         inputs, attrs, num_outputs)\n\u001b[0m\u001b[1;32m     54\u001b[0m   \u001b[0;32mexcept\u001b[0m \u001b[0mcore\u001b[0m\u001b[0;34m.\u001b[0m\u001b[0m_NotOkStatusException\u001b[0m \u001b[0;32mas\u001b[0m \u001b[0me\u001b[0m\u001b[0;34m:\u001b[0m\u001b[0;34m\u001b[0m\u001b[0;34m\u001b[0m\u001b[0m\n\u001b[1;32m     55\u001b[0m     \u001b[0;32mif\u001b[0m \u001b[0mname\u001b[0m \u001b[0;32mis\u001b[0m \u001b[0;32mnot\u001b[0m \u001b[0;32mNone\u001b[0m\u001b[0;34m:\u001b[0m\u001b[0;34m\u001b[0m\u001b[0;34m\u001b[0m\u001b[0m\n",
            "\u001b[0;31mKeyboardInterrupt\u001b[0m: "
          ],
          "ename": "KeyboardInterrupt",
          "evalue": "",
          "output_type": "error"
        }
      ]
    },
    {
      "cell_type": "code",
      "source": [],
      "metadata": {
        "execution": {
          "iopub.status.busy": "2023-04-25T14:24:38.478344Z",
          "iopub.execute_input": "2023-04-25T14:24:38.479463Z",
          "iopub.status.idle": "2023-04-25T14:24:38.485431Z",
          "shell.execute_reply.started": "2023-04-25T14:24:38.479427Z",
          "shell.execute_reply": "2023-04-25T14:24:38.484078Z"
        },
        "trusted": true,
        "id": "LVd7Z2LVk-gd",
        "outputId": "5edd08ec-5f57-44d1-9216-b3fc00754d36"
      },
      "execution_count": null,
      "outputs": [
        {
          "name": "stdout",
          "text": "0\n",
          "output_type": "stream"
        }
      ]
    },
    {
      "cell_type": "code",
      "source": [],
      "metadata": {
        "id": "aCDVhzwMk-gd"
      },
      "execution_count": null,
      "outputs": []
    }
  ]
}